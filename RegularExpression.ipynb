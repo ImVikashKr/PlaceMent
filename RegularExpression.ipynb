{
  "nbformat": 4,
  "nbformat_minor": 0,
  "metadata": {
    "colab": {
      "provenance": [],
      "collapsed_sections": [],
      "authorship_tag": "ABX9TyM5hAFLpImszZD4z8uPBfd8",
      "include_colab_link": true
    },
    "kernelspec": {
      "name": "python3",
      "display_name": "Python 3"
    },
    "language_info": {
      "name": "python"
    }
  },
  "cells": [
    {
      "cell_type": "markdown",
      "metadata": {
        "id": "view-in-github",
        "colab_type": "text"
      },
      "source": [
        "<a href=\"https://colab.research.google.com/github/ImVikashKr/PlaceMent/blob/main/RegularExpression.ipynb\" target=\"_parent\"><img src=\"https://colab.research.google.com/assets/colab-badge.svg\" alt=\"Open In Colab\"/></a>"
      ]
    },
    {
      "cell_type": "markdown",
      "source": [
        "A RegEx, or Regular Expression, is a sequence of characters that forms a search pattern.\n",
        "\n",
        "RegEx can be used to check if a string contains the specified search pattern."
      ],
      "metadata": {
        "id": "lHqOkqZgCDAd"
      }
    },
    {
      "cell_type": "code",
      "execution_count": null,
      "metadata": {
        "id": "ztaex6qPbWr7"
      },
      "outputs": [],
      "source": [
        "#Python has a built-in package called re, which can be used to work with Regular Expressions.\n",
        "import re"
      ]
    },
    {
      "cell_type": "code",
      "source": [
        "#Search the string to see if it starts with \"The\" and ends with \"Spain\":\n",
        "txt = \"The rain in Spain\"\n",
        "x = re.search(\"^The.*Spain$\", txt)\n",
        "if x:\n",
        "  print(\"YES! We have a match!\")\n",
        "else:\n",
        "  print(\"No match\")"
      ],
      "metadata": {
        "colab": {
          "base_uri": "https://localhost:8080/"
        },
        "id": "16DjhM5zCZ23",
        "outputId": "717d4f5c-de21-48b5-952c-7c48332912cf"
      },
      "execution_count": null,
      "outputs": [
        {
          "output_type": "stream",
          "name": "stdout",
          "text": [
            "YES! We have a match!\n"
          ]
        }
      ]
    },
    {
      "cell_type": "markdown",
      "source": [
        "The re module offers a set of functions that allows us to search a string for a match:\n",
        "\n",
        "findall:\tReturns a list containing all matches\n",
        "\n",
        "search:\tReturns a Match object if there is a match anywhere in the string\n",
        "\n",
        "split:\tReturns a list where the string has been split at each match\n",
        "\n",
        "sub:\tReplaces one or many matches with a string"
      ],
      "metadata": {
        "id": "ZF7RBQBrC89s"
      }
    },
    {
      "cell_type": "markdown",
      "source": [
        "**find all matches to the regular expression in Python.** The RE module’s re.findall() method scans the regex pattern through the entire target string and returns all the matches that were found in the form of a list."
      ],
      "metadata": {
        "id": "-RJkWybrJQex"
      }
    },
    {
      "cell_type": "markdown",
      "source": [
        "**Syntax:**\n",
        "\n",
        "re.findall(pattern, string, flags=0)\n",
        "\n",
        "pattern: regular expression pattern we want to find in the string or text\n",
        "\n",
        "string: It is the variable pointing to the target string (In which we want to look for occurrences of the pattern).\n",
        "\n",
        "Flags: It refers to optional regex flags. by default, no flags are applied. For example, the re.I flag is used for performing case-insensitive findings."
      ],
      "metadata": {
        "id": "g_nGBZ3QJa7Z"
      }
    },
    {
      "cell_type": "code",
      "source": [
        "target_string = \"Emma is a basketball player who was born on June 17, 1993. She played 112 matches with scoring average 26.12 points per game. Her weight is 51 kg.\"\n",
        "result = re.findall(r\"\\d+\", target_string)\n",
        "\n",
        "# print all matches\n",
        "print(\"Found following matches\")\n",
        "print(result)\n"
      ],
      "metadata": {
        "colab": {
          "base_uri": "https://localhost:8080/"
        },
        "id": "oZ49EKpRJ3CO",
        "outputId": "8076b2a3-3951-43cb-b70e-e3b41c0e494d"
      },
      "execution_count": null,
      "outputs": [
        {
          "output_type": "stream",
          "name": "stdout",
          "text": [
            "Found following matches\n",
            "['17', '1993', '112', '26', '12', '51']\n"
          ]
        }
      ]
    },
    {
      "cell_type": "markdown",
      "source": [
        "**Python regex re.search() method** looks for occurrences of the regex pattern inside the entire target string and returns the corresponding Match Object instance where the match found.\n",
        "\n",
        "The **re.search()** returns only the first match to the pattern from the target string. Use a re.search() to search pattern anywhere in the string."
      ],
      "metadata": {
        "id": "tiLHCFj8KHTH"
      }
    },
    {
      "cell_type": "markdown",
      "source": [
        "**Syntax**\n",
        "\n",
        "re.search(pattern, string, flags=0)\n",
        "\n",
        "The regular expression pattern and target string are the mandatory arguments, and flags are optional.\n",
        "\n",
        "pattern: The first argument is the regular expression pattern we want to search inside the target string.\n",
        "\n",
        "string: The second argument is the variable pointing to the target string (In which we want to look for occurrences of the pattern).\n",
        "\n",
        "flags: Finally, the third argument is optional and it refers to regex flags by default no flags are applied."
      ],
      "metadata": {
        "id": "43nSfPJOKPlg"
      }
    },
    {
      "cell_type": "code",
      "source": [
        "target_string = \"Emma is a baseball player who was born on June 17\"\n",
        "\n",
        "# search() for eight-letter word\n",
        "result = re.search(r\"\\w{8}\", target_string)\n",
        "\n",
        "# Print match object\n",
        "print(\"Match Object\", result)\n",
        "# output re.Match object; span=(10, 18), match='baseball'\n",
        "\n",
        "# print the matching word using group() method\n",
        "print(\"Matching word: \", result.group()) \n",
        "# Output 'baseball'"
      ],
      "metadata": {
        "colab": {
          "base_uri": "https://localhost:8080/"
        },
        "id": "HqUqbhDRKj5e",
        "outputId": "4fc3ef1c-bf5e-4810-f220-5e7debc8fe39"
      },
      "execution_count": null,
      "outputs": [
        {
          "output_type": "stream",
          "name": "stdout",
          "text": [
            "Match Object <re.Match object; span=(10, 18), match='baseball'>\n",
            "Matching word:  baseball\n"
          ]
        }
      ]
    },
    {
      "cell_type": "markdown",
      "source": [
        "##[ ]\t: A set of characters -\t\"[a-m]\""
      ],
      "metadata": {
        "id": "RiDE3UceDnQZ"
      }
    },
    {
      "cell_type": "code",
      "source": [
        "txt = \"The rain in Spain\"\n",
        "\n",
        "#Find all lower case characters alphabetically between \"a\" and \"m\":\n",
        "\n",
        "x = re.findall(\"[a-m]\", txt)\n",
        "print(x)\n"
      ],
      "metadata": {
        "colab": {
          "base_uri": "https://localhost:8080/"
        },
        "id": "B6K94rmyDRJH",
        "outputId": "721cd0cb-3f58-4318-c4fb-55d5e79e880a"
      },
      "execution_count": null,
      "outputs": [
        {
          "output_type": "stream",
          "name": "stdout",
          "text": [
            "['h', 'e', 'a', 'i', 'i', 'a', 'i']\n"
          ]
        }
      ]
    },
    {
      "cell_type": "markdown",
      "source": [
        "## \\ : Signals a special sequence (can also be used to escape special characters) - \t\"\\d\""
      ],
      "metadata": {
        "id": "-6y7tX3uD9pz"
      }
    },
    {
      "cell_type": "code",
      "source": [
        "txt = \"That will be 59 dollars\"\n",
        "\n",
        "#Find all digit characters:\n",
        "\n",
        "x = re.findall(\"\\d\", txt)\n",
        "print(x)\n"
      ],
      "metadata": {
        "colab": {
          "base_uri": "https://localhost:8080/"
        },
        "id": "twxWU_wKEH14",
        "outputId": "95ae4f60-f86e-418b-8f7c-b955e31cd486"
      },
      "execution_count": null,
      "outputs": [
        {
          "output_type": "stream",
          "name": "stdout",
          "text": [
            "['5', '9']\n"
          ]
        }
      ]
    },
    {
      "cell_type": "markdown",
      "source": [
        "## \" . \" :\tAny character (except newline character) -\t\"he..o\""
      ],
      "metadata": {
        "id": "X7K7V1HLEZ7S"
      }
    },
    {
      "cell_type": "code",
      "source": [
        "txt = \"hello planet\"\n",
        "\n",
        "#Search for a sequence that starts with \"he\", followed by two (any) characters, and an \"o\":\n",
        "\n",
        "x = re.findall(\"he..o\", txt)\n",
        "print(x)"
      ],
      "metadata": {
        "colab": {
          "base_uri": "https://localhost:8080/"
        },
        "id": "dEpoRJpvEkoX",
        "outputId": "56897c1c-7ed3-4c44-d9e8-a93bfd4875c3"
      },
      "execution_count": null,
      "outputs": [
        {
          "output_type": "stream",
          "name": "stdout",
          "text": [
            "['hello']\n"
          ]
        }
      ]
    },
    {
      "cell_type": "markdown",
      "source": [
        "## \" ^ \" :\tStarts with\t- \"^hello\""
      ],
      "metadata": {
        "id": "iwwrpGAcEsi1"
      }
    },
    {
      "cell_type": "code",
      "source": [
        "txt = \"hello planet\"\n",
        "\n",
        "#Check if the string starts with 'hello':\n",
        "\n",
        "x = re.findall(\"^hello\", txt)\n",
        "if x:\n",
        "  print(\"Yes, the string starts with 'hello'\")\n",
        "else:\n",
        "  print(\"No match\")\n"
      ],
      "metadata": {
        "colab": {
          "base_uri": "https://localhost:8080/"
        },
        "id": "4ab1eaQ_E3sH",
        "outputId": "846214c5-e739-439b-e532-e99485b58781"
      },
      "execution_count": null,
      "outputs": [
        {
          "output_type": "stream",
          "name": "stdout",
          "text": [
            "Yes, the string starts with 'hello'\n"
          ]
        }
      ]
    },
    {
      "cell_type": "code",
      "source": [
        "# \" $ \" : \tEnds with\t- \"planet$\"\n",
        "\n",
        "txt = \"hello planet\"\n",
        "\n",
        "#Check if the string ends with 'planet':\n",
        "\n",
        "x = re.findall(\"planet$\", txt)\n",
        "if x:\n",
        "  print(\"Yes, the string ends with 'planet'\")\n",
        "else:\n",
        "  print(\"No match\")\n"
      ],
      "metadata": {
        "colab": {
          "base_uri": "https://localhost:8080/"
        },
        "id": "F0sHFJbGFgne",
        "outputId": "0ba516f8-3544-428a-8c01-aba2fb69ba86"
      },
      "execution_count": null,
      "outputs": [
        {
          "output_type": "stream",
          "name": "stdout",
          "text": [
            "Yes, the string ends with 'planet'\n"
          ]
        }
      ]
    },
    {
      "cell_type": "markdown",
      "source": [
        "## \" *\t\" : Zero or more occurrences -\t\"he.*o\""
      ],
      "metadata": {
        "id": "O2fL23rmFzg0"
      }
    },
    {
      "cell_type": "code",
      "source": [
        "txt = \"hello planet\"\n",
        "\n",
        "#Search for a sequence that starts with \"he\", followed by 0 or more  (any) characters, and an \"o\":\n",
        "\n",
        "x = re.findall(\"he.*o\", txt)\n",
        "\n",
        "print(x)\n"
      ],
      "metadata": {
        "colab": {
          "base_uri": "https://localhost:8080/"
        },
        "id": "DfnAM17DF7Zt",
        "outputId": "011c1635-f123-4e84-eab9-f687e700403d"
      },
      "execution_count": null,
      "outputs": [
        {
          "output_type": "stream",
          "name": "stdout",
          "text": [
            "['hello']\n"
          ]
        }
      ]
    },
    {
      "cell_type": "markdown",
      "source": [
        "## \" + \" :\tOne or more occurrences -\t\"he.+o\""
      ],
      "metadata": {
        "id": "GPQiAyOjGD8c"
      }
    },
    {
      "cell_type": "code",
      "source": [
        "txt = \"hello planet\"\n",
        "\n",
        "#Search for a sequence that starts with \"he\", followed by 1 or more  (any) characters, and an \"o\":\n",
        "\n",
        "x = re.findall(\"he.+o\", txt)\n",
        "\n",
        "print(x)\n"
      ],
      "metadata": {
        "colab": {
          "base_uri": "https://localhost:8080/"
        },
        "id": "8Kc3IWWKGKCI",
        "outputId": "3e08d663-d110-448a-cbe1-395338d4ff70"
      },
      "execution_count": null,
      "outputs": [
        {
          "output_type": "stream",
          "name": "stdout",
          "text": [
            "['hello']\n"
          ]
        }
      ]
    },
    {
      "cell_type": "markdown",
      "source": [
        "## \" ? \" :\tZero or one occurrences -\t\"he.?o\""
      ],
      "metadata": {
        "id": "VBzfUqXdGUMz"
      }
    },
    {
      "cell_type": "code",
      "source": [
        "txt = \"hello planet\"\n",
        "\n",
        "#Search for a sequence that starts with \"he\", followed by 0 or 1  (any) character, and an \"o\":\n",
        "\n",
        "x = re.findall(\"he.?o\", txt)\n",
        "\n",
        "print(x)\n",
        "\n",
        "#This time we got no match, because there were not zero, not one, but two characters between \"he\" and the \"o\"\n"
      ],
      "metadata": {
        "colab": {
          "base_uri": "https://localhost:8080/"
        },
        "id": "DGtJdLDPGa3f",
        "outputId": "7376e31d-e772-4046-b37e-a5a4f5f11ba0"
      },
      "execution_count": null,
      "outputs": [
        {
          "output_type": "stream",
          "name": "stdout",
          "text": [
            "[]\n"
          ]
        }
      ]
    },
    {
      "cell_type": "markdown",
      "source": [
        "## \" {} \" :\tExactly the specified number of occurrences -\t\"he.{2}o\""
      ],
      "metadata": {
        "id": "BPEArQSDGmyI"
      }
    },
    {
      "cell_type": "code",
      "source": [
        "txt = \"hello planet\"\n",
        "\n",
        "#Search for a sequence that starts with \"he\", followed excactly 2 (any) characters, and an \"o\":\n",
        "\n",
        "x = re.findall(\"he.{2}o\", txt)\n",
        "\n",
        "print(x)"
      ],
      "metadata": {
        "colab": {
          "base_uri": "https://localhost:8080/"
        },
        "id": "fIucc51KGwXm",
        "outputId": "9e3abc98-2686-49ac-9ee5-e2ee4fc1f9d9"
      },
      "execution_count": null,
      "outputs": [
        {
          "output_type": "stream",
          "name": "stdout",
          "text": [
            "['hello']\n"
          ]
        }
      ]
    },
    {
      "cell_type": "markdown",
      "source": [
        "## \" | \" :\tEither or -\t\"falls|stays\""
      ],
      "metadata": {
        "id": "e_5ai1eaG6mT"
      }
    },
    {
      "cell_type": "code",
      "source": [
        "txt = \"The rain in Spain falls mainly in the plain!\"\n",
        "\n",
        "#Check if the string contains either \"falls\" or \"stays\":\n",
        "\n",
        "x = re.findall(\"falls|stays\", txt)\n",
        "\n",
        "print(x)\n",
        "\n",
        "if x:\n",
        "  print(\"Yes, there is at least one match!\")\n",
        "else:\n",
        "  print(\"No match\")\n"
      ],
      "metadata": {
        "colab": {
          "base_uri": "https://localhost:8080/"
        },
        "id": "isOG8nhpHBas",
        "outputId": "c2ab13fb-ccb7-459f-cfcc-44b1ae9542bf"
      },
      "execution_count": null,
      "outputs": [
        {
          "output_type": "stream",
          "name": "stdout",
          "text": [
            "['falls']\n",
            "Yes, there is at least one match!\n"
          ]
        }
      ]
    },
    {
      "cell_type": "markdown",
      "source": [
        "## \" () \" :\tCapture and group"
      ],
      "metadata": {
        "id": "0n64gL3zIPAp"
      }
    },
    {
      "cell_type": "markdown",
      "source": [
        "A group is a part of a regex pattern enclosed in parentheses () metacharacter.\n",
        "\n",
        "Anything you have in parentheses () will be a capture group. using the group(group_number) method of the regex Match object we can extract the matching value of each group."
      ],
      "metadata": {
        "id": "qtmTkFgiIVuI"
      }
    },
    {
      "cell_type": "code",
      "source": [
        "target_string = \"The price of PINEAPPLE ice cream is 20\"\n",
        "\n",
        "# two groups enclosed in separate ( and ) bracket\n",
        "result = re.search(r\"(\\b[A-Z]+\\b).+(\\b\\d+)\", target_string)\n",
        "\n",
        "# Extract matching values of all groups\n",
        "print(result.groups())\n",
        "# Output ('PINEAPPLE', '20')\n",
        "\n",
        "# Extract match value of group 1\n",
        "print(result.group(1))\n",
        "# Output 'PINEAPPLE'\n",
        "\n",
        "# Extract match value of group 2\n",
        "print(result.group(2))\n",
        "# Output 20"
      ],
      "metadata": {
        "colab": {
          "base_uri": "https://localhost:8080/"
        },
        "id": "1eaGHk1cIiZX",
        "outputId": "570d71d2-ebe3-4ada-e8c4-cb98b189c03f"
      },
      "execution_count": null,
      "outputs": [
        {
          "output_type": "stream",
          "name": "stdout",
          "text": [
            "('PINEAPPLE', '20')\n",
            "PINEAPPLE\n",
            "20\n"
          ]
        }
      ]
    },
    {
      "cell_type": "markdown",
      "source": [
        "## \" \\A \"\t: Returns a match if the specified characters are at the beginning of the string -\t\"\\AThe\""
      ],
      "metadata": {
        "id": "iSL6T8bWojMg"
      }
    },
    {
      "cell_type": "code",
      "source": [
        "txt = \"The rain in Spain\"\n",
        "\n",
        "#Check if the string starts with \"The\":\n",
        "\n",
        "x = re.findall(\"\\AThe\", txt)\n",
        "\n",
        "print(x)\n",
        "\n",
        "if x:\n",
        "  print(\"Yes, there is a match!\")\n",
        "else:\n",
        "  print(\"No match\")\n"
      ],
      "metadata": {
        "colab": {
          "base_uri": "https://localhost:8080/"
        },
        "id": "AMROMsk0oqLw",
        "outputId": "3f643286-62b3-4857-9aef-e20656c4e1dd"
      },
      "execution_count": null,
      "outputs": [
        {
          "output_type": "stream",
          "name": "stdout",
          "text": [
            "['The']\n",
            "Yes, there is a match!\n"
          ]
        }
      ]
    },
    {
      "cell_type": "markdown",
      "source": [
        "## \" \\b \" :\tReturns a match where the specified characters are at the beginning or at the end of a word\n",
        "(the \"r\" in the beginning is making sure that the string is being treated as a \"raw string\")\t\n",
        "\n",
        "**r\"\\bain\"**\n",
        "\n",
        "**r\"ain\\b\"**"
      ],
      "metadata": {
        "id": "WjpkWfJboyA6"
      }
    },
    {
      "cell_type": "code",
      "source": [
        "txt = \"The rain in Spain\"\n",
        "\n",
        "#Check if \"ain\" is present at the beginning of a WORD:\n",
        "\n",
        "x = re.findall(r\"\\bain\", txt)\n",
        "\n",
        "print(x)\n",
        "\n",
        "if x:\n",
        "  print(\"Yes, there is at least one match!\")\n",
        "else:\n",
        "  print(\"No match\")\n"
      ],
      "metadata": {
        "colab": {
          "base_uri": "https://localhost:8080/"
        },
        "id": "9lW6lpbApUls",
        "outputId": "352c2761-2fc2-470b-b62d-6028ca7d0d3a"
      },
      "execution_count": null,
      "outputs": [
        {
          "output_type": "stream",
          "name": "stdout",
          "text": [
            "[]\n",
            "No match\n"
          ]
        }
      ]
    },
    {
      "cell_type": "code",
      "source": [
        "txt = \"The rain in Spain\"\n",
        "\n",
        "#Check if \"ain\" is present at the end of a WORD:\n",
        "\n",
        "x = re.findall(r\"ain\\b\", txt)\n",
        "\n",
        "print(x)\n",
        "\n",
        "if x:\n",
        "  print(\"Yes, there is at least one match!\")\n",
        "else:\n",
        "  print(\"No match\")\n"
      ],
      "metadata": {
        "colab": {
          "base_uri": "https://localhost:8080/"
        },
        "id": "7szR2Z7ppa1A",
        "outputId": "93f7b3a0-879e-46b2-b66a-36ba5657a9b5"
      },
      "execution_count": null,
      "outputs": [
        {
          "output_type": "stream",
          "name": "stdout",
          "text": [
            "['ain', 'ain']\n",
            "Yes, there is at least one match!\n"
          ]
        }
      ]
    },
    {
      "cell_type": "markdown",
      "source": [
        "## \" \\B \" :\tReturns a match where the specified characters are present, but NOT at the beginning (or at the end) of a word\n",
        "(the \"r\" in the beginning is making sure that the string is being treated as a \"raw string\")\t\n",
        "\n",
        "**r\"\\Bain\"**\n",
        "\n",
        "**r\"ain\\B\"**"
      ],
      "metadata": {
        "id": "YCzp4vD3pkCj"
      }
    },
    {
      "cell_type": "code",
      "source": [
        "txt = \"The rain in Spain\"\n",
        "\n",
        "#Check if \"ain\" is present, but NOT at the beginning of a word:\n",
        "\n",
        "x = re.findall(r\"\\Bain\", txt)\n",
        "\n",
        "print(x)\n",
        "\n",
        "if x:\n",
        "  print(\"Yes, there is at least one match!\")\n",
        "else:\n",
        "  print(\"No match\")\n"
      ],
      "metadata": {
        "colab": {
          "base_uri": "https://localhost:8080/"
        },
        "id": "cQjWyhU6pvuw",
        "outputId": "b2a935db-5402-49ee-bea1-8a869dc62d75"
      },
      "execution_count": null,
      "outputs": [
        {
          "output_type": "stream",
          "name": "stdout",
          "text": [
            "['ain', 'ain']\n",
            "Yes, there is at least one match!\n"
          ]
        }
      ]
    },
    {
      "cell_type": "code",
      "source": [
        "txt = \"The rain in Spain\"\n",
        "\n",
        "#Check if \"ain\" is present, but NOT at the end of a word:\n",
        "\n",
        "x = re.findall(r\"ain\\B\", txt)\n",
        "\n",
        "print(x)\n",
        "\n",
        "if x:\n",
        "  print(\"Yes, there is at least one match!\")\n",
        "else:\n",
        "  print(\"No match\")\n"
      ],
      "metadata": {
        "colab": {
          "base_uri": "https://localhost:8080/"
        },
        "id": "yjDjBSy0p4vx",
        "outputId": "47895bf3-ebcd-4cce-bd33-a233d7efb7ef"
      },
      "execution_count": null,
      "outputs": [
        {
          "output_type": "stream",
          "name": "stdout",
          "text": [
            "[]\n",
            "No match\n"
          ]
        }
      ]
    },
    {
      "cell_type": "markdown",
      "source": [
        "## \" \\d \" :\tReturns a match where the string contains digits (numbers from 0-9)\t- \"\\d\""
      ],
      "metadata": {
        "id": "aDfcf_NpqAs4"
      }
    },
    {
      "cell_type": "code",
      "source": [
        "txt = \"The rain in Spain\"\n",
        "\n",
        "#Check if the string contains any digits (numbers from 0-9):\n",
        "\n",
        "x = re.findall(\"\\d\", txt)\n",
        "\n",
        "print(x)\n",
        "\n",
        "if x:\n",
        "  print(\"Yes, there is at least one match!\")\n",
        "else:\n",
        "  print(\"No match\")\n"
      ],
      "metadata": {
        "colab": {
          "base_uri": "https://localhost:8080/"
        },
        "id": "Dp7nnpxmp_9E",
        "outputId": "4b219182-8a91-4360-82a6-a787d408283f"
      },
      "execution_count": null,
      "outputs": [
        {
          "output_type": "stream",
          "name": "stdout",
          "text": [
            "[]\n",
            "No match\n"
          ]
        }
      ]
    },
    {
      "cell_type": "markdown",
      "source": [
        "## \" \\D \" :\tReturns a match where the string DOES NOT contain digits\t - \"\\D\""
      ],
      "metadata": {
        "id": "zfGglZZtqONp"
      }
    },
    {
      "cell_type": "code",
      "source": [
        "txt = \"The rain in Spain\"\n",
        "\n",
        "#Return a match at every no-digit character:\n",
        "\n",
        "x = re.findall(\"\\D\", txt)\n",
        "\n",
        "print(x)\n",
        "\n",
        "if x:\n",
        "  print(\"Yes, there is at least one match!\")\n",
        "else:\n",
        "  print(\"No match\")\n"
      ],
      "metadata": {
        "colab": {
          "base_uri": "https://localhost:8080/"
        },
        "id": "QJJ_Sxyrqb1A",
        "outputId": "9df0f9ba-0ecb-42e5-97a7-e5efa61a42d7"
      },
      "execution_count": null,
      "outputs": [
        {
          "output_type": "stream",
          "name": "stdout",
          "text": [
            "['T', 'h', 'e', ' ', 'r', 'a', 'i', 'n', ' ', 'i', 'n', ' ', 'S', 'p', 'a', 'i', 'n']\n",
            "Yes, there is at least one match!\n"
          ]
        }
      ]
    },
    {
      "cell_type": "markdown",
      "source": [
        "## \" \\s \" :\tReturns a match where the string contains a white space character -\t\"\\s\""
      ],
      "metadata": {
        "id": "zMu9u3RLql9S"
      }
    },
    {
      "cell_type": "code",
      "source": [
        "txt = \"The rain in Spain\"\n",
        "\n",
        "#Return a match at every white-space character:\n",
        "\n",
        "x = re.findall(\"\\s\", txt)\n",
        "\n",
        "print(x)\n",
        "\n",
        "if x:\n",
        "  print(\"Yes, there is at least one match!\")\n",
        "else:\n",
        "  print(\"No match\")\n"
      ],
      "metadata": {
        "colab": {
          "base_uri": "https://localhost:8080/"
        },
        "id": "LKw_Nwqmqz9s",
        "outputId": "4e657ca9-b944-49ec-dedd-839bc828b08a"
      },
      "execution_count": null,
      "outputs": [
        {
          "output_type": "stream",
          "name": "stdout",
          "text": [
            "[' ', ' ', ' ']\n",
            "Yes, there is at least one match!\n"
          ]
        }
      ]
    },
    {
      "cell_type": "markdown",
      "source": [
        "## \" \\S\t\" : Returns a match where the string DOES NOT contain a white space character -\t\"\\S\""
      ],
      "metadata": {
        "id": "YkeBmWrWq5mm"
      }
    },
    {
      "cell_type": "code",
      "source": [
        "txt = \"The rain in Spain\"\n",
        "\n",
        "#Return a match at every NON white-space character:\n",
        "\n",
        "x = re.findall(\"\\S\", txt)\n",
        "\n",
        "print(x)\n",
        "\n",
        "if x:\n",
        "  print(\"Yes, there is at least one match!\")\n",
        "else:\n",
        "  print(\"No match\")\n"
      ],
      "metadata": {
        "colab": {
          "base_uri": "https://localhost:8080/"
        },
        "id": "KD6PT8zPrC2n",
        "outputId": "adc7c8f2-5027-4c92-c4a5-477713d18274"
      },
      "execution_count": null,
      "outputs": [
        {
          "output_type": "stream",
          "name": "stdout",
          "text": [
            "['T', 'h', 'e', 'r', 'a', 'i', 'n', 'i', 'n', 'S', 'p', 'a', 'i', 'n']\n",
            "Yes, there is at least one match!\n"
          ]
        }
      ]
    },
    {
      "cell_type": "markdown",
      "source": [
        "## \" \\w \" :\tReturns a match where the string contains any word characters (characters from a to Z, digits from 0-9, and the underscore _ character) -\t\"\\w\""
      ],
      "metadata": {
        "id": "2VF4UvycrKqY"
      }
    },
    {
      "cell_type": "code",
      "source": [
        "txt = \"The rain in Spain\"\n",
        "\n",
        "#Return a match at every word character (characters from a to Z, digits from 0-9, and the underscore _ character):\n",
        "\n",
        "x = re.findall(\"\\w\", txt)\n",
        "\n",
        "print(x)\n",
        "\n",
        "if x:\n",
        "  print(\"Yes, there is at least one match!\")\n",
        "else:\n",
        "  print(\"No match\")\n"
      ],
      "metadata": {
        "colab": {
          "base_uri": "https://localhost:8080/"
        },
        "id": "zFgg6iezrWcx",
        "outputId": "0575dd2d-6ff4-494b-8414-e595d0e99377"
      },
      "execution_count": null,
      "outputs": [
        {
          "output_type": "stream",
          "name": "stdout",
          "text": [
            "['T', 'h', 'e', 'r', 'a', 'i', 'n', 'i', 'n', 'S', 'p', 'a', 'i', 'n']\n",
            "Yes, there is at least one match!\n"
          ]
        }
      ]
    },
    {
      "cell_type": "markdown",
      "source": [
        "## \" \\W \" :\tReturns a match where the string DOES NOT contain any word characters -\t\"\\W\""
      ],
      "metadata": {
        "id": "oKAFmS6lrclB"
      }
    },
    {
      "cell_type": "code",
      "source": [
        "txt = \"The rain in Spain\"\n",
        "\n",
        "#Return a match at every NON word character (characters NOT between a and Z. Like \"!\", \"?\" white-space etc.):\n",
        "\n",
        "x = re.findall(\"\\W\", txt)\n",
        "\n",
        "print(x)\n",
        "\n",
        "if x:\n",
        "  print(\"Yes, there is at least one match!\")\n",
        "else:\n",
        "  print(\"No match\")\n"
      ],
      "metadata": {
        "colab": {
          "base_uri": "https://localhost:8080/"
        },
        "id": "LxbNMTh9rlvI",
        "outputId": "0fd3bd99-f123-42ec-f45c-094d0036ac33"
      },
      "execution_count": null,
      "outputs": [
        {
          "output_type": "stream",
          "name": "stdout",
          "text": [
            "[' ', ' ', ' ']\n",
            "Yes, there is at least one match!\n"
          ]
        }
      ]
    },
    {
      "cell_type": "markdown",
      "source": [
        "## \" \\Z \" :\tReturns a match if the specified characters are at the end of the string -\t\"Spain\\Z\""
      ],
      "metadata": {
        "id": "99QT3LANrrpP"
      }
    },
    {
      "cell_type": "code",
      "source": [
        "txt = \"The rain in Spain\"\n",
        "\n",
        "#Check if the string ends with \"Spain\":\n",
        "\n",
        "x = re.findall(\"Spain\\Z\", txt)\n",
        "\n",
        "print(x)\n",
        "\n",
        "if x:\n",
        "  print(\"Yes, there is a match!\")\n",
        "else:\n",
        "  print(\"No match\")\n"
      ],
      "metadata": {
        "colab": {
          "base_uri": "https://localhost:8080/"
        },
        "id": "O89JHts3r1kt",
        "outputId": "a636deae-9c1d-4d01-e455-cbaa4a8f9d2c"
      },
      "execution_count": null,
      "outputs": [
        {
          "output_type": "stream",
          "name": "stdout",
          "text": [
            "['Spain']\n",
            "Yes, there is a match!\n"
          ]
        }
      ]
    },
    {
      "cell_type": "markdown",
      "source": [
        "# Sets\n",
        "A set is a set of characters inside a pair of square brackets [] with a special meaning:"
      ],
      "metadata": {
        "id": "cD0lU844r63w"
      }
    },
    {
      "cell_type": "markdown",
      "source": [
        "1. [arn] :\tReturns a match where one of the specified characters (a, r, or n) is present"
      ],
      "metadata": {
        "id": "nD2EKVbhsHVZ"
      }
    },
    {
      "cell_type": "code",
      "source": [
        "txt = \"The rain in Spain\"\n",
        "\n",
        "#Check if the string has any a, r, or n characters:\n",
        "\n",
        "x = re.findall(\"[arn]\", txt)\n",
        "\n",
        "print(x)\n",
        "\n",
        "if x:\n",
        "  print(\"Yes, there is at least one match!\")\n",
        "else:\n",
        "  print(\"No match\")\n"
      ],
      "metadata": {
        "colab": {
          "base_uri": "https://localhost:8080/"
        },
        "id": "9_s7jYsQsRiT",
        "outputId": "75314985-044c-43ec-8345-924a87241ca7"
      },
      "execution_count": null,
      "outputs": [
        {
          "output_type": "stream",
          "name": "stdout",
          "text": [
            "['r', 'a', 'n', 'n', 'a', 'n']\n",
            "Yes, there is at least one match!\n"
          ]
        }
      ]
    },
    {
      "cell_type": "markdown",
      "source": [
        "2. [a-n] :\tReturns a match for any lower case character, alphabetically between a and n"
      ],
      "metadata": {
        "id": "VIUMzlxmsZ5a"
      }
    },
    {
      "cell_type": "code",
      "source": [
        "txt = \"The rain in Spain\"\n",
        "\n",
        "#Check if the string has any characters between a and n:\n",
        "\n",
        "x = re.findall(\"[a-n]\", txt)\n",
        "\n",
        "print(x)\n",
        "\n",
        "if x:\n",
        "  print(\"Yes, there is at least one match!\")\n",
        "else:\n",
        "  print(\"No match\")\n"
      ],
      "metadata": {
        "colab": {
          "base_uri": "https://localhost:8080/"
        },
        "id": "wBShMVzssd6I",
        "outputId": "9f28214d-e1f4-4650-dae0-8965a9516d56"
      },
      "execution_count": null,
      "outputs": [
        {
          "output_type": "stream",
          "name": "stdout",
          "text": [
            "['h', 'e', 'a', 'i', 'n', 'i', 'n', 'a', 'i', 'n']\n",
            "Yes, there is at least one match!\n"
          ]
        }
      ]
    },
    {
      "cell_type": "markdown",
      "source": [
        "3. [^arn]\t: Returns a match for any character EXCEPT a, r, and n"
      ],
      "metadata": {
        "id": "f04ExYKSsmx7"
      }
    },
    {
      "cell_type": "code",
      "source": [
        "txt = \"The rain in Spain\"\n",
        "\n",
        "#Check if the string has other characters than a, r, or n:\n",
        "\n",
        "x = re.findall(\"[^arn]\", txt)\n",
        "\n",
        "print(x)\n",
        "\n",
        "if x:\n",
        "  print(\"Yes, there is at least one match!\")\n",
        "else:\n",
        "  print(\"No match\")\n"
      ],
      "metadata": {
        "colab": {
          "base_uri": "https://localhost:8080/"
        },
        "id": "a2zVXSZgsvGb",
        "outputId": "dc359808-a32e-42f5-d74c-8c6a3f4d9cef"
      },
      "execution_count": null,
      "outputs": [
        {
          "output_type": "stream",
          "name": "stdout",
          "text": [
            "['T', 'h', 'e', ' ', 'i', ' ', 'i', ' ', 'S', 'p', 'i']\n",
            "Yes, there is at least one match!\n"
          ]
        }
      ]
    },
    {
      "cell_type": "markdown",
      "source": [
        "4. [0123] :\tReturns a match where any of the specified digits (0, 1, 2, or 3) are present"
      ],
      "metadata": {
        "id": "tJ8DUw1rs0xO"
      }
    },
    {
      "cell_type": "code",
      "source": [
        "txt = \"The rain in Spain\"\n",
        "\n",
        "#Check if the string has any 0, 1, 2, or 3 digits:\n",
        "\n",
        "x = re.findall(\"[0123]\", txt)\n",
        "\n",
        "print(x)\n",
        "\n",
        "if x:\n",
        "  print(\"Yes, there is at least one match!\")\n",
        "else:\n",
        "  print(\"No match\")\n"
      ],
      "metadata": {
        "colab": {
          "base_uri": "https://localhost:8080/"
        },
        "id": "OnmccsZXtDZn",
        "outputId": "af189f12-07cf-451e-ae35-552390290dd0"
      },
      "execution_count": null,
      "outputs": [
        {
          "output_type": "stream",
          "name": "stdout",
          "text": [
            "[]\n",
            "No match\n"
          ]
        }
      ]
    },
    {
      "cell_type": "markdown",
      "source": [
        "5. [0-9] :\tReturns a match for any digit between 0 and 9"
      ],
      "metadata": {
        "id": "tdD6zl5StMO2"
      }
    },
    {
      "cell_type": "code",
      "source": [
        "txt = \"8 times before 11:45 AM\"\n",
        "\n",
        "#Check if the string has any digits:\n",
        "\n",
        "x = re.findall(\"[0-9]\", txt)\n",
        "\n",
        "print(x)\n",
        "\n",
        "if x:\n",
        "  print(\"Yes, there is at least one match!\")\n",
        "else:\n",
        "  print(\"No match\")\n"
      ],
      "metadata": {
        "colab": {
          "base_uri": "https://localhost:8080/"
        },
        "id": "cePP8h78tTOl",
        "outputId": "051246c0-2ab7-4a43-af73-4f7178455258"
      },
      "execution_count": null,
      "outputs": [
        {
          "output_type": "stream",
          "name": "stdout",
          "text": [
            "['8', '1', '1', '4', '5']\n",
            "Yes, there is at least one match!\n"
          ]
        }
      ]
    },
    {
      "cell_type": "markdown",
      "source": [
        "6. [0-5][0-9] :\tReturns a match for any two-digit numbers from 00 and 59"
      ],
      "metadata": {
        "id": "d2LLa2frtbUU"
      }
    },
    {
      "cell_type": "code",
      "source": [
        "txt = \"8 times before 11:45 AM\"\n",
        "\n",
        "#Check if the string has any two-digit numbers, from 00 to 59:\n",
        "\n",
        "x = re.findall(\"[0-5][0-9]\", txt)\n",
        "\n",
        "print(x)\n",
        "\n",
        "if x:\n",
        "  print(\"Yes, there is at least one match!\")\n",
        "else:\n",
        "  print(\"No match\")\n"
      ],
      "metadata": {
        "colab": {
          "base_uri": "https://localhost:8080/"
        },
        "id": "HLB_o2NNte_B",
        "outputId": "74d1c8e0-e87a-4165-968e-f52e0878f1a8"
      },
      "execution_count": null,
      "outputs": [
        {
          "output_type": "stream",
          "name": "stdout",
          "text": [
            "['11', '45']\n",
            "Yes, there is at least one match!\n"
          ]
        }
      ]
    },
    {
      "cell_type": "markdown",
      "source": [
        "7. [a-zA-Z]\t: Returns a match for any character alphabetically between a and z, lower case OR upper case"
      ],
      "metadata": {
        "id": "mx4ltoB9tkD6"
      }
    },
    {
      "cell_type": "code",
      "source": [
        "txt = \"8 times before 11:45 AM\"\n",
        "\n",
        "#Check if the string has any characters from a to z lower case, and A to Z upper case:\n",
        "\n",
        "x = re.findall(\"[a-zA-Z]\", txt)\n",
        "\n",
        "print(x)\n",
        "\n",
        "if x:\n",
        "  print(\"Yes, there is at least one match!\")\n",
        "else:\n",
        "  print(\"No match\")\n"
      ],
      "metadata": {
        "colab": {
          "base_uri": "https://localhost:8080/"
        },
        "id": "NQ2ehjBitsxH",
        "outputId": "93c02105-7cbc-491c-d198-b69527d26bcf"
      },
      "execution_count": null,
      "outputs": [
        {
          "output_type": "stream",
          "name": "stdout",
          "text": [
            "['t', 'i', 'm', 'e', 's', 'b', 'e', 'f', 'o', 'r', 'e', 'A', 'M']\n",
            "Yes, there is at least one match!\n"
          ]
        }
      ]
    },
    {
      "cell_type": "markdown",
      "source": [
        "8. [+] :\tIn sets, +, *, ., |, (), $,{} has no special meaning, so [+] means: return a match for any + character in the string"
      ],
      "metadata": {
        "id": "ZVukxoNMtxfn"
      }
    },
    {
      "cell_type": "code",
      "source": [
        "txt = \"8 times before 11:45 AM\"\n",
        "\n",
        "#Check if the string has any + characters:\n",
        "\n",
        "x = re.findall(\"[+]\", txt)\n",
        "\n",
        "print(x)\n",
        "\n",
        "if x:\n",
        "  print(\"Yes, there is at least one match!\")\n",
        "else:\n",
        "  print(\"No match\")\n"
      ],
      "metadata": {
        "colab": {
          "base_uri": "https://localhost:8080/"
        },
        "id": "apIL9Ff8t3_Q",
        "outputId": "e0488b37-6b10-457c-b23a-3dfd8946c126"
      },
      "execution_count": null,
      "outputs": [
        {
          "output_type": "stream",
          "name": "stdout",
          "text": [
            "[]\n",
            "No match\n"
          ]
        }
      ]
    },
    {
      "cell_type": "markdown",
      "source": [
        "##**The findall() Function**\n",
        "The findall() function returns a list containing all matches."
      ],
      "metadata": {
        "id": "6Ey_zNPruCZX"
      }
    },
    {
      "cell_type": "code",
      "source": [
        "txt = \"The rain in Spain\"\n",
        "x = re.findall(\"ai\", txt)\n",
        "print(x)\n",
        "# The list contains the matches in the order they are found.\n",
        "\n",
        "#If no matches are found, an empty list is returned:\n"
      ],
      "metadata": {
        "colab": {
          "base_uri": "https://localhost:8080/"
        },
        "id": "sArcO8QpuGvu",
        "outputId": "6d6e8c4c-b95c-4a98-bed0-54a5e0aa18b3"
      },
      "execution_count": null,
      "outputs": [
        {
          "output_type": "stream",
          "name": "stdout",
          "text": [
            "['ai', 'ai']\n"
          ]
        }
      ]
    },
    {
      "cell_type": "markdown",
      "source": [
        "##**The search() Function**\n",
        "The search() function searches the string for a match, and returns a Match object if there is a match.\n",
        "\n",
        "If there is more than one match, only the first occurrence of the match will be returned:"
      ],
      "metadata": {
        "id": "r_F5Bx9ouOJ0"
      }
    },
    {
      "cell_type": "code",
      "source": [
        "txt = \"The rain in Spain\"\n",
        "x = re.search(\"\\s\", txt)\n",
        "\n",
        "print(\"The first white-space character is located in position:\", x.start()) \n",
        "\n",
        "#If no matches are found, the value None is returned:"
      ],
      "metadata": {
        "colab": {
          "base_uri": "https://localhost:8080/"
        },
        "id": "LPbCPj-6ukiX",
        "outputId": "4b98c266-031d-4e70-81b2-eeba762ffc22"
      },
      "execution_count": null,
      "outputs": [
        {
          "output_type": "stream",
          "name": "stdout",
          "text": [
            "The first white-space character is located in position: 3\n"
          ]
        }
      ]
    },
    {
      "cell_type": "markdown",
      "source": [
        "##**The split() Function**\n",
        "The split() function returns a list where the string has been split at each match:"
      ],
      "metadata": {
        "id": "WVB1NVAnurPz"
      }
    },
    {
      "cell_type": "code",
      "source": [
        "txt = \"The rain in Spain\"\n",
        "x = re.split(\"\\s\", txt)\n",
        "print(x)\n"
      ],
      "metadata": {
        "colab": {
          "base_uri": "https://localhost:8080/"
        },
        "id": "mhRnJq0tu90V",
        "outputId": "a61863a8-c9f9-4f81-ed2c-6f28da8813eb"
      },
      "execution_count": null,
      "outputs": [
        {
          "output_type": "stream",
          "name": "stdout",
          "text": [
            "['The', 'rain', 'in', 'Spain']\n"
          ]
        }
      ]
    },
    {
      "cell_type": "code",
      "source": [
        "#You can control the number of occurrences by specifying the maxsplit parameter:\n",
        "# Split the string only at the first occurrence:\n",
        "txt = \"The rain in Spain\"\n",
        "x = re.split(\"\\s\", txt, 1)\n",
        "print(x)"
      ],
      "metadata": {
        "colab": {
          "base_uri": "https://localhost:8080/"
        },
        "id": "KzXtPIgBvHxz",
        "outputId": "3ab2d8f7-c8dc-4363-dff7-577758431bd0"
      },
      "execution_count": null,
      "outputs": [
        {
          "output_type": "stream",
          "name": "stdout",
          "text": [
            "['The', 'rain in Spain']\n"
          ]
        }
      ]
    },
    {
      "cell_type": "markdown",
      "source": [
        "## **The sub() Function**\n",
        "The sub() function replaces the matches with the text of your choice:"
      ],
      "metadata": {
        "id": "hJMMhirovRcD"
      }
    },
    {
      "cell_type": "code",
      "source": [
        "#Replace every white-space character with the number 9:\n",
        "txt = \"The rain in Spain\"\n",
        "x = re.sub(\"\\s\", \"9\", txt)\n",
        "print(x)"
      ],
      "metadata": {
        "colab": {
          "base_uri": "https://localhost:8080/"
        },
        "id": "e8Cp955-vWlu",
        "outputId": "b32477b6-f61d-4d5f-96db-590469ea5d50"
      },
      "execution_count": null,
      "outputs": [
        {
          "output_type": "stream",
          "name": "stdout",
          "text": [
            "The9rain9in9Spain\n"
          ]
        }
      ]
    },
    {
      "cell_type": "code",
      "source": [
        "# you can control the number of replacements by specifying the count parameter:\n",
        "# Replace the first 2 occurrences:\n",
        "txt = \"The rain in Spain\"\n",
        "x = re.sub(\"\\s\", \"9\", txt, 2)\n",
        "print(x)"
      ],
      "metadata": {
        "colab": {
          "base_uri": "https://localhost:8080/"
        },
        "id": "esRFRN_vvpUX",
        "outputId": "63f8421a-31e1-4bed-efb7-caef063e9afd"
      },
      "execution_count": null,
      "outputs": [
        {
          "output_type": "stream",
          "name": "stdout",
          "text": [
            "The9rain9in Spain\n"
          ]
        }
      ]
    },
    {
      "cell_type": "markdown",
      "source": [
        "##**Match Object**\n",
        "A Match Object is an object containing information about the search and the result.\n",
        "\n",
        "Note: If there is no match, the value None will be returned, instead of the Match Object."
      ],
      "metadata": {
        "id": "BY0W_DPHv_t7"
      }
    },
    {
      "cell_type": "code",
      "source": [
        "# Do a search that will return a Match Object:\n",
        "txt = \"The rain in Spain\"\n",
        "x = re.search(\"ai\", txt)\n",
        "print(x) #this will print an object\n"
      ],
      "metadata": {
        "colab": {
          "base_uri": "https://localhost:8080/"
        },
        "id": "WwG74-m9wLzf",
        "outputId": "bfdef323-0b1a-4432-c65d-c9540af33b8e"
      },
      "execution_count": null,
      "outputs": [
        {
          "output_type": "stream",
          "name": "stdout",
          "text": [
            "<re.Match object; span=(5, 7), match='ai'>\n"
          ]
        }
      ]
    },
    {
      "cell_type": "markdown",
      "source": [
        "The Match object has properties and methods used to retrieve information about the search, and the result:\n",
        "\n",
        ".span() returns a tuple containing the start-, and end positions of the match.\n",
        "\n",
        ".string returns the string passed into the function\n",
        "\n",
        ".group() returns the part of the string where there was a match"
      ],
      "metadata": {
        "id": "RPYn4xTJwc8y"
      }
    },
    {
      "cell_type": "code",
      "source": [
        "# Print the position (start- and end-position) of the first match occurrence.\n",
        "\n",
        "# The regular expression looks for any words that starts with an upper case \"S\":\n",
        "txt = \"The rain in Spain\"\n",
        "x = re.search(r\"\\bS\\w+\", txt)\n",
        "print(x.span())"
      ],
      "metadata": {
        "colab": {
          "base_uri": "https://localhost:8080/"
        },
        "id": "AmfZninUwhh9",
        "outputId": "b09abf29-ea82-4bf5-eacf-dc83826d6e0a"
      },
      "execution_count": null,
      "outputs": [
        {
          "output_type": "stream",
          "name": "stdout",
          "text": [
            "(12, 17)\n"
          ]
        }
      ]
    },
    {
      "cell_type": "code",
      "source": [
        "# Print the string passed into the function:\n",
        "\n",
        "txt = \"The rain in Spain\"\n",
        "x = re.search(r\"\\bS\\w+\", txt)\n",
        "print(x.string)"
      ],
      "metadata": {
        "colab": {
          "base_uri": "https://localhost:8080/"
        },
        "id": "_r5FchaCwvjJ",
        "outputId": "c3c44f18-0cda-4fb8-dc1c-f53382c7f2bb"
      },
      "execution_count": null,
      "outputs": [
        {
          "output_type": "stream",
          "name": "stdout",
          "text": [
            "The rain in Spain\n"
          ]
        }
      ]
    },
    {
      "cell_type": "code",
      "source": [
        "# Print the part of the string where there was a match.\n",
        "\n",
        "# The regular expression looks for any words that starts with an upper case \"S\":\n",
        "\n",
        "txt = \"The rain in Spain\"\n",
        "x = re.search(r\"\\bS\\w+\", txt)\n",
        "print(x.group())\n"
      ],
      "metadata": {
        "colab": {
          "base_uri": "https://localhost:8080/"
        },
        "id": "aLEe3yNYw4E5",
        "outputId": "63111454-1074-4d87-dff6-6bea650ebab1"
      },
      "execution_count": null,
      "outputs": [
        {
          "output_type": "stream",
          "name": "stdout",
          "text": [
            "Spain\n"
          ]
        }
      ]
    }
  ]
}